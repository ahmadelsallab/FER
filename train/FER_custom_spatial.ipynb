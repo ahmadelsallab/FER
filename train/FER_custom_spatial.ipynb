{
  "nbformat": 4,
  "nbformat_minor": 0,
  "metadata": {
    "colab": {
      "name": "FER_kaggle_Spatial.ipynb",
      "provenance": [],
      "collapsed_sections": []
    },
    "kernelspec": {
      "name": "python3",
      "display_name": "Python 3"
    },
    "accelerator": "GPU"
  },
  "cells": [
    {
      "cell_type": "markdown",
      "metadata": {
        "id": "A2YAfuNPmAhQ",
        "colab_type": "text"
      },
      "source": [
        "### **Imports**"
      ]
    },
    {
      "cell_type": "code",
      "metadata": {
        "id": "luLogUBhlBdX",
        "colab_type": "code",
        "colab": {}
      },
      "source": [
        "import pandas as pd\n",
        "from sklearn import model_selection\n",
        "import tensorflow as tf\n",
        "from tensorflow.keras.preprocessing.image import ImageDataGenerator\n",
        "from tensorflow.keras import models\n",
        "from tensorflow.keras import layers\n",
        "from tensorflow.keras.layers import *\n",
        "from tensorflow.keras.preprocessing import image\n",
        "from tensorflow.keras.applications import VGG16\n",
        "from tensorflow.keras.callbacks import ModelCheckpoint\n",
        "from keras.applications.imagenet_utils import preprocess_input\n",
        "from keras.regularizers import *\n",
        "# TensorFlow session: grow memory when needed. TF, DO NOT USE ALL MY GPU MEMORY!!!\n",
        "gpu_options = tf.GPUOptions(allow_growth=True)\n",
        "config = tf.ConfigProto(log_device_placement=False, gpu_options=gpu_options)\n",
        "isess = tf.InteractiveSession(config=config)\n"
      ],
      "execution_count": 0,
      "outputs": []
    },
    {
      "cell_type": "markdown",
      "metadata": {
        "id": "seLQfIw5mC_b",
        "colab_type": "text"
      },
      "source": [
        "### **Mount & set directory**\n"
      ]
    },
    {
      "cell_type": "code",
      "metadata": {
        "id": "83Mq8biplGQ2",
        "colab_type": "code",
        "colab": {}
      },
      "source": [
        "from google.colab import drive\n",
        "drive.mount('/content/drive')\n",
        "home_dir = '/content/drive/My Drive/Colab Notebooks/FER/'\n",
        "baum_dir = home_dir + 'BAUM/'\n",
        "data = pd.read_csv(baum_dir + 'training_data.csv', dtype={'flow': str, 'spatial': str, 'code': str})\n",
        "data_valid = pd.read_csv(baum_dir + 'validation_data.csv', dtype={'flow': str, 'spatial': str, 'code': str})\n",
        "# drop odd elements\n",
        "#data = data.iloc[range(0,len(data),2)]\n",
        "#print (data.head())\n"
      ],
      "execution_count": 0,
      "outputs": []
    },
    {
      "cell_type": "markdown",
      "metadata": {
        "id": "0qEGgWVVkyOW",
        "colab_type": "text"
      },
      "source": [
        "### **Data Analysis and Visualization**"
      ]
    },
    {
      "cell_type": "code",
      "metadata": {
        "id": "TFHnYwtVkvgC",
        "colab_type": "code",
        "colab": {}
      },
      "source": [
        "import matplotlib.pyplot as plt\n",
        "import matplotlib.image as mpimg\n",
        "import os\n",
        "data_unique = data['code'].unique().tolist()\n",
        "print(\"Unique classes are: \",data_unique)\n",
        "\n",
        "images = []\n",
        "images_flow = []\n",
        "emotions = []\n",
        "codes = []\n",
        "i = 0\n",
        "while i < 10:\n",
        "  sample = data.sample()\n",
        "\n",
        "  spatial = sample['spatial'] \n",
        "  emotion = sample['emotion'] \n",
        "  code = sample['code']\n",
        "\n",
        "  spatial = spatial.get_values()[0]\n",
        "  emotion = emotion.get_values()[0]\n",
        "  code = code.get_values()[0]\n",
        "\n",
        "  img_path = baum_dir + spatial\n",
        "  if (os.path.isfile(img_path)):\n",
        "    images.append(mpimg.imread(img_path))\n",
        "    emotions.append(emotion)\n",
        "    codes.append(code)\n",
        "    i+=1\n",
        "\n",
        "plt.figure(figsize=(10,15))\n",
        "columns = 10\n",
        "\n",
        "for i, image in enumerate(images):\n",
        "    plt.subplot(len(images) / columns + 1, columns, i + 1)\n",
        "    plt.imshow(image)\n",
        "    plt.axis('off')\n",
        "\n",
        "print(emotions[:5])\n",
        "print(emotions[5:])\n"
      ],
      "execution_count": 0,
      "outputs": []
    },
    {
      "cell_type": "markdown",
      "metadata": {
        "id": "XF4hsPs4laha",
        "colab_type": "text"
      },
      "source": [
        "### **Image generators**"
      ]
    },
    {
      "cell_type": "code",
      "metadata": {
        "id": "eoAd5KTPE_HO",
        "colab_type": "code",
        "colab": {}
      },
      "source": [
        "X_train, _, y_train, _ = model_selection.train_test_split(data['spatial'], data['code'], test_size=0.01)\n",
        "_, X_test, _, y_test = model_selection.train_test_split(data_valid['spatial'], data_valid['code'], test_size=0.99)\n",
        "\n",
        "print(\"Trainig data: \", len(X_train), \"Trainig labels: \", len(y_train))\n",
        "print(\"Test data: \", len(X_test), \"Test labels: \", len(y_test))\n",
        "\n",
        "train_df = pd.concat([X_train, y_train], axis=1, sort=False)\n",
        "valid_df = pd.concat([X_test, y_test], axis=1, sort=False)\n",
        "\n",
        "\n",
        "batch_size_ = 256\n",
        "\n",
        "train_datagen = ImageDataGenerator(#rescale=1./255,\n",
        "                                   shear_range=0.2,\n",
        "                                   zoom_range=0.2,\n",
        "                                   horizontal_flip=True)\n",
        "\n",
        "test_datagen = ImageDataGenerator()#rescale=1./255,\n",
        "\n",
        "\n",
        "train_generator = train_datagen.flow_from_dataframe(\n",
        "        dataframe=train_df,\n",
        "        directory='',\n",
        "        x_col=\"spatial\",\n",
        "        y_col=\"code\",\n",
        "        target_size=(48, 48),\n",
        "        batch_size=batch_size_,\n",
        "        class_mode='categorical')\n",
        "\n",
        "validation_generator = test_datagen.flow_from_dataframe(\n",
        "        dataframe=valid_df,\n",
        "        directory='',\n",
        "        x_col=\"spatial\",\n",
        "        y_col=\"code\",\n",
        "        target_size=(48, 48),\n",
        "        batch_size=batch_size_,\n",
        "        class_mode='categorical')\n",
        "\n",
        "print (\"generators initiaized\")"
      ],
      "execution_count": 0,
      "outputs": []
    },
    {
      "cell_type": "markdown",
      "metadata": {
        "id": "vY6kPgmzlpB2",
        "colab_type": "text"
      },
      "source": [
        "### **Model & setting**"
      ]
    },
    {
      "cell_type": "code",
      "metadata": {
        "id": "Lxo92SVglqoz",
        "colab_type": "code",
        "colab": {}
      },
      "source": [
        "\n",
        "# Create Model\n",
        "def create_model():\n",
        "  input_spatial = Input(shape=(48,48,3))\n",
        "  x = layers.Conv2D(64, (5, 5), activation='relu')(input_spatial)\n",
        "  x = layers.MaxPooling2D(pool_size=(5,5), strides=(2, 2))(x)\n",
        "  x = layers.Conv2D(64, (3, 3), activation='relu')(x)\n",
        "  x = layers.Conv2D(64, (3, 3), activation='relu')(x)\n",
        "  x = layers.AveragePooling2D(pool_size=(3,3), strides=(2, 2))(x)\n",
        "  x = layers.Conv2D(128, (3, 3), activation='relu')(x)\n",
        "  x = layers.Conv2D(128, (3, 3), activation='relu')(x)\n",
        "\n",
        "  x = layers.AveragePooling2D(pool_size=(3,3), strides=(2, 2))(x)\n",
        "  x = layers.Flatten()(x)\n",
        "\n",
        "  x = layers.Dense(1024, activation='relu')(x)\n",
        "  x = layers.Dropout(0.6)(x)\n",
        "  x = layers.Dense(1024, activation='relu',\n",
        "                kernel_regularizer=l2(0.01),\n",
        "                activity_regularizer=l1(0.01))(x)\n",
        "\n",
        "  x = layers.Dropout(0.6)(x)\n",
        "\n",
        "  Out = layers.Dense(6, activation='softmax')(x)\n",
        "  model = models.Model(inputs=[input_spatial], outputs=[Out])\n",
        "  return model\n",
        "\n",
        "model = create_model()\n",
        "print (model.summary())\n",
        "\n",
        "model.compile(optimizer = \"Adam\",\n",
        "              loss = \"categorical_crossentropy\",\n",
        "              metrics = [\"accuracy\"])"
      ],
      "execution_count": 0,
      "outputs": []
    },
    {
      "cell_type": "markdown",
      "metadata": {
        "id": "IEe7B5zal25r",
        "colab_type": "text"
      },
      "source": [
        "### **Train**"
      ]
    },
    {
      "cell_type": "code",
      "metadata": {
        "id": "N4QDBE75lsd3",
        "colab_type": "code",
        "colab": {}
      },
      "source": [
        "# Auto-save model weights with best val_acc\n",
        "modelPath  = baum_dir + 'models/kaggle_spatial.h5'\n",
        "checkpoint = ModelCheckpoint(modelPath,\n",
        "                             monitor = 'val_acc',\n",
        "                             verbose = 1,\n",
        "                             save_best_only = True,\n",
        "                             mode = 'max')\n",
        "callbacks_list = [checkpoint]\n",
        "\n",
        "# Train The Model\n",
        "model.fit_generator(\n",
        "        train_generator,\n",
        "        steps_per_epoch=1000,\n",
        "        epochs=50,\n",
        "        validation_data=validation_generator,\n",
        "        validation_steps=400,\n",
        "        callbacks = callbacks_list)"
      ],
      "execution_count": 0,
      "outputs": []
    },
    {
      "cell_type": "markdown",
      "metadata": {
        "id": "EkQ83L3FFoFB",
        "colab_type": "text"
      },
      "source": [
        "### **End**"
      ]
    }
  ]
}